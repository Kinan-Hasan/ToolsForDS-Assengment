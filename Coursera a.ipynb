{
 "cells": [
  {
   "cell_type": "markdown",
   "id": "8884b7d6",
   "metadata": {},
   "source": [
    "#  Data Science Tools and Ecosystem"
   ]
  },
  {
   "cell_type": "markdown",
   "id": "74505b3e",
   "metadata": {},
   "source": [
    "In this notebook, Data Science Tools and Ecosystem are summarized."
   ]
  },
  {
   "cell_type": "markdown",
   "id": "ebdde900",
   "metadata": {},
   "source": [
    "ome of the popular languages that Data Scientists use are:\n",
    "\n",
    "1.Python\n",
    "\n",
    "2.R\n",
    "\n",
    "3.Julia\n",
    "\n",
    "4.Scala"
   ]
  },
  {
   "cell_type": "markdown",
   "id": "39f7d1e9",
   "metadata": {},
   "source": [
    "Some of the commonly used libraries used by Data Scientists include:\n",
    "\n",
    "1.Numpy\n",
    "\n",
    "2.Pandas\n",
    "\n",
    "3.matplotlib\n",
    "\n",
    "4.Seaborn\n",
    "\n",
    "5.Scitik-Learn"
   ]
  },
  {
   "cell_type": "markdown",
   "id": "4a070850",
   "metadata": {},
   "source": [
    "|Data Science Tools|\n",
    "|---|\n",
    "|Jupyter Notebook|\n",
    "|---|\n",
    "|TenserFlow|\n",
    "|---|\n",
    "|Apache Spark|"
   ]
  },
  {
   "cell_type": "markdown",
   "id": "f28f3d37",
   "metadata": {},
   "source": [
    "### Below are a few examples of evaluating arithmetic expressions in Python"
   ]
  },
  {
   "cell_type": "code",
   "execution_count": 1,
   "id": "5e83f791",
   "metadata": {},
   "outputs": [
    {
     "data": {
      "text/plain": [
       "17"
      ]
     },
     "execution_count": 1,
     "metadata": {},
     "output_type": "execute_result"
    }
   ],
   "source": [
    "#This a simple arithmetic expression to mutiply then add integers\n",
    "(3*4)+5"
   ]
  },
  {
   "cell_type": "code",
   "execution_count": 2,
   "id": "1f62ff0c",
   "metadata": {},
   "outputs": [
    {
     "data": {
      "text/plain": [
       "3.3333333333333335"
      ]
     },
     "execution_count": 2,
     "metadata": {},
     "output_type": "execute_result"
    }
   ],
   "source": [
    "#This will convert 200 minutes to hours by diving by 60\n",
    "200/60"
   ]
  },
  {
   "cell_type": "markdown",
   "id": "4b3c2e97",
   "metadata": {},
   "source": [
    "**Objectives:** \n",
    "\n",
    "* popular languages that Data Scientists \n",
    "* Data Science Tools\n",
    "* commonly used libraries \n",
    "* few examples of evaluating arithmetic expressions\n",
    "* an example to covert minutes into hours"
   ]
  },
  {
   "cell_type": "markdown",
   "id": "af345deb",
   "metadata": {},
   "source": [
    "## Author\n",
    "Kinan Hasan"
   ]
  },
  {
   "cell_type": "code",
   "execution_count": null,
   "id": "292e11d2",
   "metadata": {},
   "outputs": [],
   "source": []
  }
 ],
 "metadata": {
  "kernelspec": {
   "display_name": "Python 3 (ipykernel)",
   "language": "python",
   "name": "python3"
  },
  "language_info": {
   "codemirror_mode": {
    "name": "ipython",
    "version": 3
   },
   "file_extension": ".py",
   "mimetype": "text/x-python",
   "name": "python",
   "nbconvert_exporter": "python",
   "pygments_lexer": "ipython3",
   "version": "3.11.5"
  }
 },
 "nbformat": 4,
 "nbformat_minor": 5
}
